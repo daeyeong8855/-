{
  "nbformat": 4,
  "nbformat_minor": 0,
  "metadata": {
    "colab": {
      "provenance": [],
      "authorship_tag": "ABX9TyO6zhm+i7D43l7W3ZyXgR8P",
      "include_colab_link": true
    },
    "kernelspec": {
      "name": "python3",
      "display_name": "Python 3"
    },
    "language_info": {
      "name": "python"
    }
  },
  "cells": [
    {
      "cell_type": "markdown",
      "metadata": {
        "id": "view-in-github",
        "colab_type": "text"
      },
      "source": [
        "<a href=\"https://colab.research.google.com/github/daeyeong8855/Image-Manipulation-and-Dataset-Construction/blob/main/%EB%B2%94%EC%A3%BC%ED%98%95_%EB%8D%B0%EC%9D%B4%ED%84%B0_%EC%B2%98%EB%A6%AC.ipynb\" target=\"_parent\"><img src=\"https://colab.research.google.com/assets/colab-badge.svg\" alt=\"Open In Colab\"/></a>"
      ]
    },
    {
      "cell_type": "markdown",
      "source": [
        "##순서없는 범주형 데이터 처리\n",
        "명목척도"
      ],
      "metadata": {
        "id": "Bmx5IoFg-ic0"
      }
    },
    {
      "cell_type": "code",
      "execution_count": 7,
      "metadata": {
        "id": "4Lf55sbszm-9",
        "colab": {
          "base_uri": "https://localhost:8080/"
        },
        "outputId": "0fd4ead0-8ba8-4269-ed0b-167135269cdc"
      },
      "outputs": [
        {
          "output_type": "stream",
          "name": "stdout",
          "text": [
            "['가나다라' '아바하자' '카나다사']\n"
          ]
        }
      ],
      "source": [
        "import numpy as np\n",
        "from sklearn.preprocessing import LabelBinarizer, MultiLabelBinarizer\n",
        "\n",
        "feature = np.array((['가나다라'],\n",
        "                    ['가나다라'],\n",
        "                    ['아바하자'],\n",
        "                    ['카나다사']))\n",
        "\n",
        "\n",
        "one_hot = LabelBinarizer() #원-핫 인코더 생성\n",
        "one_hot.fit_transform(feature) #특성을 원 핫 인코딩 변환\n",
        "print (one_hot.classes_) #특성 클래스 확인"
      ]
    },
    {
      "cell_type": "markdown",
      "source": [
        "### 다중 클래스 특성에 대한 처리"
      ],
      "metadata": {
        "id": "PqCC42HE-zY_"
      }
    },
    {
      "cell_type": "code",
      "source": [
        "multiclass_feature = [('가나다라마', '아사바하나'),\n",
        "                      ('자나다라마', '아자바하나'),\n",
        "                      ('카나다라마', '아파바하나'),\n",
        "                      ('파나다라마', '아라바하나'),\n",
        "                      ('가나다라마', '아타바하나')]\n",
        "\n",
        "one_hot_mult = MultiLabelBinarizer()\n",
        "one_hot_mult.fit_transform(multiclass_feature)\n",
        "\n",
        "print(one_hot_mult.classes_)\n",
        "                      "
      ],
      "metadata": {
        "id": "hQvJX9mV0Hxz",
        "colab": {
          "base_uri": "https://localhost:8080/"
        },
        "outputId": "62b37a89-2b00-4753-811f-29f8a10d01b4"
      },
      "execution_count": 9,
      "outputs": [
        {
          "output_type": "stream",
          "name": "stdout",
          "text": [
            "['가나다라마' '아라바하나' '아사바하나' '아자바하나' '아타바하나' '아파바하나' '자나다라마' '카나다라마' '파나다라마']\n"
          ]
        }
      ]
    },
    {
      "cell_type": "markdown",
      "source": [
        "## 문자열 타깃 데이터 원-핫 인코딩"
      ],
      "metadata": {
        "id": "2mIuQovR_8y0"
      }
    },
    {
      "cell_type": "code",
      "source": [
        "from sklearn.preprocessing import OneHotEncoder\n",
        "str_feature = ([['안녕', 1],\n",
        "                ['저녁', 2],\n",
        "                ['점심', 3]])\n",
        "\n",
        "\n",
        "one_hot_encoder = OneHotEncoder(sparse=False)\n",
        "\n",
        "# 입력특성배열을 모두 범주형으로\n",
        "print(one_hot_encoder.fit_transform(str_feature))"
      ],
      "metadata": {
        "colab": {
          "base_uri": "https://localhost:8080/"
        },
        "id": "rxUptmvi_eP6",
        "outputId": "e7a0c73e-1fc7-43c8-ede2-be829206d9de"
      },
      "execution_count": 12,
      "outputs": [
        {
          "output_type": "stream",
          "name": "stdout",
          "text": [
            "[[1. 0. 0. 1. 0. 0.]\n",
            " [0. 1. 0. 0. 1. 0.]\n",
            " [0. 0. 1. 0. 0. 1.]]\n"
          ]
        },
        {
          "output_type": "stream",
          "name": "stderr",
          "text": [
            "/usr/local/lib/python3.10/dist-packages/sklearn/preprocessing/_encoders.py:868: FutureWarning: `sparse` was renamed to `sparse_output` in version 1.2 and will be removed in 1.4. `sparse_output` is ignored unless you leave `sparse` to its default value.\n",
            "  warnings.warn(\n"
          ]
        }
      ]
    },
    {
      "cell_type": "markdown",
      "source": [
        "## 서열척도 인코딩"
      ],
      "metadata": {
        "id": "N8q7ZnlaB1QC"
      }
    },
    {
      "cell_type": "code",
      "source": [
        "import pandas as pd\n",
        "\n",
        "dataframe = pd.DataFrame({\n",
        "    'Score' : ['Low', \"Low\", \"Medium\", \"Medium\", \"High\"]\n",
        "})\n",
        "\n",
        "scale_mapper = {\n",
        "    \"Low\" : 1,\n",
        "    \"Medium\" : 2,\n",
        "    \"High\" : 3\n",
        "}\n",
        "\n",
        "data = dataframe['Score'].replace(scale_mapper) #replace는 바꾸는 명령어\n",
        "print(data)\n",
        "\n",
        "\n",
        "\"\"\"\n",
        "data.replace(\".png\", \"\")\n",
        "하면 확장자가 사라지고 이름만 남음\n",
        "\"\"\"\n",
        "\n",
        "from sklearn.preprocessing import OrdinalEncoder\n",
        "\n",
        "feature_array = np.array([['Low', 10],\n",
        "                          ['High', 40],\n",
        "                          ['Medium', 3]])\n",
        "\n",
        "ordinal_encoder = OrdinalEncoder()\n",
        "ordinal_encoder.fit_transform(feature_array)\n",
        "\n",
        "\n",
        "\n",
        "# 특성 딕셔너리 인코딩\n",
        "\n",
        "from sklearn.feature_extraction import DictVectorizer\n",
        "\n",
        "data_dict = [{\"Red\": 2, \"Blue\": 4},\n",
        "             {\"Red\": 2, \"Blue\": 3},\n",
        "             {\"Red\": 1, \"Yellow\": 2},\n",
        "             {\"Red\": 1, \"Yellow\": 2}]\n",
        "\n",
        "dictVectorizer = DictVectorizer(sparse=False)\n",
        "feature_dict = dictVectorizer.fit_transform(data_dict)\n",
        "feature_dict_name = dictVectorizer.get_feature_names_out()\n",
        "\n",
        "dict_data = pd.DataFrame(feature_dict, columns=feature_dict_name)\n",
        "print(dict_data)\n"
      ],
      "metadata": {
        "colab": {
          "base_uri": "https://localhost:8080/"
        },
        "id": "vbh1ENyZAkNc",
        "outputId": "3d0241ac-e1e5-4302-8f27-1afdf081fa52"
      },
      "execution_count": 31,
      "outputs": [
        {
          "output_type": "stream",
          "name": "stdout",
          "text": [
            "0    1\n",
            "1    1\n",
            "2    2\n",
            "3    2\n",
            "4    3\n",
            "Name: Score, dtype: int64\n",
            "   Blue  Red  Yellow\n",
            "0   4.0  2.0     0.0\n",
            "1   3.0  2.0     0.0\n",
            "2   0.0  1.0     2.0\n",
            "3   0.0  1.0     2.0\n"
          ]
        }
      ]
    },
    {
      "cell_type": "markdown",
      "source": [
        "## 누락된 클래스 값 처리"
      ],
      "metadata": {
        "id": "Fi5Ff7DWKZGc"
      }
    },
    {
      "cell_type": "code",
      "source": [
        "from sklearn.neighbors import KNeighborsClassifier\n",
        "\n",
        "x = np.array([[0, 2.10, 1.48],\n",
        "              [1, 1.18, 1.33],\n",
        "              [0, 1.22, 1.27],\n",
        "              [1, -0.2, -1.15]\n",
        "              ])\n",
        "\n",
        "x_with_nan = np.array([[np.nan, 0.87, 1.33], [np.nan, -0.67, -0.22]])\n",
        "clf = KNeighborsClassifier(3, weights='distance')\n",
        "\n",
        "\n",
        "\n",
        "train_model = clf.fit(x[:,1:], x[:,0])\n",
        "imputer_values = train_model.predict(x_with_nan[:,1:]) # 누락된 값의 클래스 예측\n",
        "\n",
        "x_with_imputer = np.hstack((imputer_values.reshape(-1,1), x_with_nan[:,1:]))\n",
        "data=np.vstack((x_with_imputer, x)) # 두 행렬 연결\n",
        "print(data)"
      ],
      "metadata": {
        "colab": {
          "base_uri": "https://localhost:8080/"
        },
        "id": "ayqWDrwACTyF",
        "outputId": "f37adc66-0bb0-405f-b76c-67a61ed99f42"
      },
      "execution_count": 42,
      "outputs": [
        {
          "output_type": "stream",
          "name": "stdout",
          "text": [
            "[[ 0.    0.87  1.33]\n",
            " [ 1.   -0.67 -0.22]\n",
            " [ 0.    2.1   1.48]\n",
            " [ 1.    1.18  1.33]\n",
            " [ 0.    1.22  1.27]\n",
            " [ 1.   -0.2  -1.15]]\n"
          ]
        }
      ]
    },
    {
      "cell_type": "markdown",
      "source": [
        "누락된 클래스 값 처리 - 02"
      ],
      "metadata": {
        "id": "q5Bo0xJuPZKA"
      }
    },
    {
      "cell_type": "code",
      "source": [
        "from sklearn.impute import SimpleImputer\n",
        "\n",
        "x_complete = np.vstack((x_with_nan, x))\n",
        "\n",
        "impute = SimpleImputer(strategy='most_frequent')\n",
        "data_impute = impute.fit_transform(x_complete)\n",
        "print(f\"처리 전 \\n{x_complete}\")\n",
        "print(f\"처리 후 \\n{data_impute}\")"
      ],
      "metadata": {
        "colab": {
          "base_uri": "https://localhost:8080/"
        },
        "id": "AYktrmdpLm8v",
        "outputId": "eda6e34f-7123-48e2-d5c0-2a63aadecdf9"
      },
      "execution_count": 60,
      "outputs": [
        {
          "output_type": "stream",
          "name": "stdout",
          "text": [
            "처리 전 \n",
            "[[  nan  0.87  1.33]\n",
            " [  nan -0.67 -0.22]\n",
            " [ 0.    2.1   1.48]\n",
            " [ 1.    1.18  1.33]\n",
            " [ 0.    1.22  1.27]\n",
            " [ 1.   -0.2  -1.15]]\n",
            "처리 후 \n",
            "[[ 0.    0.87  1.33]\n",
            " [ 0.   -0.67 -0.22]\n",
            " [ 0.    2.1   1.48]\n",
            " [ 1.    1.18  1.33]\n",
            " [ 0.    1.22  1.27]\n",
            " [ 1.   -0.2  -1.15]]\n"
          ]
        }
      ]
    },
    {
      "cell_type": "code",
      "source": [],
      "metadata": {
        "id": "AZ3uwBFuPwWm"
      },
      "execution_count": null,
      "outputs": []
    }
  ]
}