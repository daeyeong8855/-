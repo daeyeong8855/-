{
  "nbformat": 4,
  "nbformat_minor": 0,
  "metadata": {
    "colab": {
      "provenance": [],
      "authorship_tag": "ABX9TyPMihNgQdrm+6k8llltrAsT",
      "include_colab_link": true
    },
    "kernelspec": {
      "name": "python3",
      "display_name": "Python 3"
    },
    "language_info": {
      "name": "python"
    }
  },
  "cells": [
    {
      "cell_type": "markdown",
      "metadata": {
        "id": "view-in-github",
        "colab_type": "text"
      },
      "source": [
        "<a href=\"https://colab.research.google.com/github/daeyeong8855/Image-Manipulation-and-Dataset-Construction/blob/main/%EC%82%AC%EC%9D%B4%ED%82%B7%EB%9F%B0_%EC%B0%A8%EC%9B%90%EC%B6%95%EC%86%8C.ipynb\" target=\"_parent\"><img src=\"https://colab.research.google.com/assets/colab-badge.svg\" alt=\"Open In Colab\"/></a>"
      ]
    },
    {
      "cell_type": "markdown",
      "source": [
        "#  주성분 데이터 줄이기\n",
        "사이킷런 손글씨 데이터를 이용,"
      ],
      "metadata": {
        "id": "Qqbzs8YbaAZR"
      }
    },
    {
      "cell_type": "code",
      "execution_count": 18,
      "metadata": {
        "colab": {
          "base_uri": "https://localhost:8080/"
        },
        "id": "oLgqhZM2XC5M",
        "outputId": "c3c6243e-b7a0-43fa-e6ed-0fc7c784d74f"
      },
      "outputs": [
        {
          "output_type": "stream",
          "name": "stdout",
          "text": [
            "원본 특성 개수 >> 64\n",
            "줄어든 특성 개수 >> 54\n"
          ]
        }
      ],
      "source": [
        "from sklearn.preprocessing import StandardScaler\n",
        "from sklearn.decomposition import PCA\n",
        "from sklearn import datasets\n",
        "\n",
        "digits = datasets.load_digits() # 8x8 크기의 손글씨 숫자 데이터 로드\n",
        "feature = StandardScaler().fit_transform(digits.data) # 특성 행렬을 표준화 처리\n",
        "\n",
        "pca = PCA(n_components=0.99, whiten=True)\n",
        "features_pca = pca.fit_transform(feature)\n",
        "\n",
        "print(\"원본 특성 개수 >>\", feature.shape[1])\n",
        "print(\"줄어든 특성 개수 >>\", features_pca.shape[1])"
      ]
    },
    {
      "cell_type": "markdown",
      "source": [
        "PCA 클래스: Scikit-learn의 decomposition 모듈에서 제공되는 클래스 중 하나입니다. PCA는 데이터셋의 차원을 감소시키는 기술로, 데이터셋에서 가장 중요한 특성만 추출하여 새로운 차원 축으로 변환합니다. 이를 통해 데이터셋의 노이즈(noise)를 제거하고, 더욱 빠르고 효율적인 학습이 가능해집니다.\n",
        "\n",
        "n_components: PCA 클래스의 인자 중 하나로, 추출할 주성분(principal component)의 수를 지정합니다. 여기서는 99%의 분산(variance)을 유지하도록 설정되어 있습니다. 이는 데이터셋에서 99%의 정보가 유지되도록 차원을 축소하는 것을 의미합니다.\n",
        "\n",
        "whiten: PCA 클래스의 인자 중 하나로, True로 설정할 경우 PCA의 결과로 나오는 주성분들이 서로 독립적인 값이 되도록 백색화(whitening)를 수행합니다. 백색화를 하면 각 주성분의 분산이 1이 되고, 상관 관계가 없는 성분들로 구성된 새로운 특성 공간이 만들어집니다.\n",
        "\n",
        "fit_transform(): PCA 클래스에는 fit()과 transform() 메서드가 있습니다. fit() 메서드는 PCA 모델을 학습하고, transform() 메서드는 학습된 모델을 사용하여 데이터를 변환합니다. fit_transform() 메서드는 이 두 단계를 한 번에 수행합니다.\n",
        "\n",
        "위의 같이 PCA이용하면 99%의 분산을 유지하도록 새로운 특성(feature) 공간으로 변환하고 있습니다. 결과적으로, 원본 데이터셋의 특성 개수는 features.shape[1]으로 확인할 수 있고, PCA를 수행하여 감소된 특성 개수는 features_pca.shape[1]으로 확인할 수 있습니다. 이렇게 차원 축소를 수행하면, 모델의 학습 시간을 단축시키고, 과적합(overfitting)을 방지할 수 있습니다."
      ],
      "metadata": {
        "id": "ZT5EU5NAZ4mN"
      }
    },
    {
      "cell_type": "code",
      "source": [
        "from sklearn.datasets import load_digits\n",
        "from sklearn.model_selection import train_test_split\n",
        "from sklearn.linear_model import LogisticRegression\n",
        "from sklearn.metrics import accuracy_score\n",
        "\n",
        "digits = load_digits()\n",
        "\n",
        "# 진짜 차이가 있는지 체크하기 위해 정규화하지 않은 데이터로 분류 모델 훈련\n",
        "x_train, x_test, y_train, y_test = train_test_split(digits.data, digits.target,test_size=0.1, random_state=777)\n",
        "\n",
        "print(f\"이미지와 라벨(동일해야함) = {len(digits.data)},{len(digits.target)}\")\n",
        "print(f\"x훈련, 검증 데이터 수 = {len(x_train),len(x_test)}\")\n",
        "print(f\"y훈련, 검증 데이터 수 = {len(y_train), len(y_test)}\")"
      ],
      "metadata": {
        "colab": {
          "base_uri": "https://localhost:8080/"
        },
        "id": "k3Dh1A-gYglX",
        "outputId": "378e1ba6-25b6-4eb8-d77b-5bd1958e4416"
      },
      "execution_count": 19,
      "outputs": [
        {
          "output_type": "stream",
          "name": "stdout",
          "text": [
            "이미지와 라벨(동일해야함) = 1797,1797\n",
            "x훈련, 검증 데이터 수 = (1617, 180)\n",
            "y훈련, 검증 데이터 수 = (1617, 180)\n"
          ]
        }
      ]
    },
    {
      "cell_type": "code",
      "source": [
        "model = LogisticRegression(max_iter=1000)\n",
        "model.fit(x_train, y_train)\n",
        "y_pred = model.predict(x_test)\n",
        "\n",
        "accuracy_score(y_test,y_pred)\n",
        "\n",
        "\n",
        "#StandardScaler 적용후 -> ACC\n",
        "from sklearn.preprocessing import StandardScaler\n",
        "\n",
        "scaler = StandardScaler()\n",
        "x_train_norm = scaler.fit_transform(x_train)\n",
        "x_test_norm = scaler.transform(x_test)\n",
        "model_norm = LogisticRegression()\n",
        "model_norm.fit(x_train_norm, y_train)\n",
        "y_pred_norm = model_norm.predict(x_test_norm)\n",
        "\n",
        "accuracy_score(y_test, y_pred_norm)\n",
        "\n",
        "# 차이가 별로 없는 것 또한 정상\n",
        "print(f\"StandardScaler 비교 {accuracy_score(y_test,y_pred), accuracy_score(y_test, y_pred_norm)}\")\n"
      ],
      "metadata": {
        "colab": {
          "base_uri": "https://localhost:8080/"
        },
        "id": "A7ZtEHOwbyrI",
        "outputId": "1c52d4a1-9dd5-47df-a895-0e57d4edbda2"
      },
      "execution_count": 27,
      "outputs": [
        {
          "output_type": "stream",
          "name": "stdout",
          "text": [
            "StandardScaler 비교 (0.9388888888888889, 0.9444444444444444)\n"
          ]
        },
        {
          "output_type": "stream",
          "name": "stderr",
          "text": [
            "/usr/local/lib/python3.10/dist-packages/sklearn/linear_model/_logistic.py:458: ConvergenceWarning: lbfgs failed to converge (status=1):\n",
            "STOP: TOTAL NO. of ITERATIONS REACHED LIMIT.\n",
            "\n",
            "Increase the number of iterations (max_iter) or scale the data as shown in:\n",
            "    https://scikit-learn.org/stable/modules/preprocessing.html\n",
            "Please also refer to the documentation for alternative solver options:\n",
            "    https://scikit-learn.org/stable/modules/linear_model.html#logistic-regression\n",
            "  n_iter_i = _check_optimize_result(\n"
          ]
        }
      ]
    },
    {
      "cell_type": "markdown",
      "source": [],
      "metadata": {
        "id": "YJi7lF5Pu0ip"
      }
    },
    {
      "cell_type": "code",
      "source": [
        "from sklearn.decomposition import KernelPCA\n",
        "from sklearn.datasets import make_circles\n",
        "\n",
        "feature, _ = make_circles(n_samples=1000, random_state=777, noise=0.1, factor=0.1)\n",
        "kcpa = KernelPCA(kernel='rbf', gamma=15, n_components=1)\n",
        "feature_rbf = kcpa.fit_transform(feature)\n",
        "print(f\"원본 특성 개수 : {feature.shape[1]}\\n감소 특성 개수 : {feature_rbf.shape[1]}\")"
      ],
      "metadata": {
        "colab": {
          "base_uri": "https://localhost:8080/"
        },
        "id": "CzG8p06ddQKk",
        "outputId": "d373410f-9b7f-440b-aae0-6d40b95003ea"
      },
      "execution_count": 36,
      "outputs": [
        {
          "output_type": "stream",
          "name": "stdout",
          "text": [
            "원본 특성 개수 : 2\n",
            "감소 특성 개수 : 1\n"
          ]
        }
      ]
    },
    {
      "cell_type": "code",
      "source": [],
      "metadata": {
        "id": "kadfg6Mbx_Cz"
      },
      "execution_count": null,
      "outputs": []
    }
  ]
}