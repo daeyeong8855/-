{
  "nbformat": 4,
  "nbformat_minor": 0,
  "metadata": {
    "colab": {
      "provenance": [],
      "authorship_tag": "ABX9TyMyg3MiSEHLbxm/TmRfQiDq",
      "include_colab_link": true
    },
    "kernelspec": {
      "name": "python3",
      "display_name": "Python 3"
    },
    "language_info": {
      "name": "python"
    }
  },
  "cells": [
    {
      "cell_type": "markdown",
      "metadata": {
        "id": "view-in-github",
        "colab_type": "text"
      },
      "source": [
        "<a href=\"https://colab.research.google.com/github/daeyeong8855/Image-Manipulation-and-Dataset-Construction/blob/main/%ED%85%8D%EC%8A%A4%ED%8A%B8%26%EC%8B%9C%EA%B0%84_%EB%8D%B0%EC%9D%B4%ED%84%B0_%EC%B2%98%EB%A6%AC.ipynb\" target=\"_parent\"><img src=\"https://colab.research.google.com/assets/colab-badge.svg\" alt=\"Open In Colab\"/></a>"
      ]
    },
    {
      "cell_type": "markdown",
      "source": [
        "## 정리 및 처리 순서\n",
        "1. Tokenization : 단어 수준으로 문서 쪼갬\n",
        "2. stemming : 단어를 원형으로 변환\n",
        "3. stopwords : 불용어 제거\n",
        "4. 동의어 처리"
      ],
      "metadata": {
        "id": "fqRSKgUWgWRV"
      }
    },
    {
      "cell_type": "code",
      "execution_count": null,
      "metadata": {
        "colab": {
          "base_uri": "https://localhost:8080/"
        },
        "id": "WyPEBhk5Riv1",
        "outputId": "0fc970de-e632-4de4-fc16-5d66aa03521a"
      },
      "outputs": [
        {
          "output_type": "stream",
          "name": "stdout",
          "text": [
            "[' import re 모듈은 파이썬에서 정규 표현식을 사용하기 위해 제공되는 내장모듈입니다 ', ' 정규 표현식은 문자열 패턴을 검색 추출 대체 또는 분할하는 데 사용됩니다 ']\n"
          ]
        }
      ],
      "source": [
        "import re\n",
        "\n",
        "# 텍스트 정제\n",
        "text_data = [\" import re 모듈은 파이썬에서 정규 표현식을 사용하기 위해 제공되는 내장모듈입니다. ???\",\n",
        "             \" 정규 표현식은 문자열 패턴을 검색, 추출, 대체 또는 분할하는 데 사용됩니다. !!!!\"]\n",
        "\n",
        "# 공백 문자 제거\n",
        "strip_whitespace = [string.strip() for string in text_data]\n",
        "\n",
        "# 마침표 제거\n",
        "remove_periods = [string.replace(\".\", \"\") for string in strip_whitespace]\n",
        "\n",
        "# 구두점 삭제\n",
        "import sys\n",
        "import unicodedata\n",
        "\n",
        "temp = dict.fromkeys( i for i in range(sys.maxunicode) if unicodedata.category(chr(i)).startswith('P'))\n",
        "data = [string.translate(temp) for string in text_data]\n",
        "print(data)"
      ]
    },
    {
      "cell_type": "markdown",
      "source": [
        "## 텍스트 토큰화\n",
        "텍스트를 개별 단어로 나누기\n",
        "pip install nltk"
      ],
      "metadata": {
        "id": "ayEzrsaLXY8J"
      }
    },
    {
      "cell_type": "code",
      "source": [
        "from nltk.tokenize import sent_tokenize\n",
        "from nltk.tokenize import word_tokenize\n",
        "import nltk\n",
        "\n",
        "# 구두점 데이터 다운로드\n",
        "nltk.download('punkt')"
      ],
      "metadata": {
        "colab": {
          "base_uri": "https://localhost:8080/"
        },
        "id": "pkYxKeHNTHFo",
        "outputId": "eb40f6e9-465a-4780-cf12-d03be871aa87"
      },
      "execution_count": null,
      "outputs": [
        {
          "output_type": "stream",
          "name": "stderr",
          "text": [
            "[nltk_data] Downloading package punkt to /root/nltk_data...\n",
            "[nltk_data]   Package punkt is already up-to-date!\n"
          ]
        },
        {
          "output_type": "execute_result",
          "data": {
            "text/plain": [
              "True"
            ]
          },
          "metadata": {},
          "execution_count": 10
        }
      ]
    },
    {
      "cell_type": "code",
      "source": [
        "string = \"모듈은 정규 표현식을 사용하여 문자열에서 패턴을 찾고 조작하는 데 사용되는 파이썬 내장 모듈입니다.\"\n",
        "word_data = word_tokenize(string) # 단어를 토큰 기준으로 나눕니다.\n",
        "print(word_data)"
      ],
      "metadata": {
        "colab": {
          "base_uri": "https://localhost:8080/"
        },
        "id": "AXGY80wtXx9q",
        "outputId": "84845163-5dd8-42f6-c415-65d4a69b8e24"
      },
      "execution_count": null,
      "outputs": [
        {
          "output_type": "stream",
          "name": "stdout",
          "text": [
            "['모듈은', '정규', '표현식을', '사용하여', '문자열에서', '패턴을', '찾고', '조작하는', '데', '사용되는', '파이썬', '내장', '모듈입니다', '.']\n"
          ]
        }
      ]
    },
    {
      "cell_type": "code",
      "source": [
        "sent_string = \"첫번째 문장. 두번째 문장. 세번째 문장\"\n",
        "snet_data = sent_tokenize(sent_string)\n",
        "print(snet_data)"
      ],
      "metadata": {
        "colab": {
          "base_uri": "https://localhost:8080/"
        },
        "id": "R2m-EFY0YV5T",
        "outputId": "bb4e45fa-947b-43f0-d329-d28019aa74ec"
      },
      "execution_count": null,
      "outputs": [
        {
          "output_type": "stream",
          "name": "stdout",
          "text": [
            "['첫번째 문장.', '두번째 문장.', '세번째 문장']\n"
          ]
        }
      ]
    },
    {
      "cell_type": "markdown",
      "source": [
        "## 불용어 처리\n",
        "불용어는 쓸데없이 자주 등장하는 단어"
      ],
      "metadata": {
        "id": "Z0dOojppZmpu"
      }
    },
    {
      "cell_type": "code",
      "source": [
        "from nltk.corpus import stopwords\n",
        "nltk.download('stopwords') # 불용어 데이터 다운로드"
      ],
      "metadata": {
        "colab": {
          "base_uri": "https://localhost:8080/"
        },
        "id": "3BB_QlS9ZKkY",
        "outputId": "c7e8a25d-a591-4c05-c12b-9b015f84e902"
      },
      "execution_count": null,
      "outputs": [
        {
          "output_type": "stream",
          "name": "stderr",
          "text": [
            "[nltk_data] Downloading package stopwords to /root/nltk_data...\n",
            "[nltk_data]   Unzipping corpora/stopwords.zip.\n"
          ]
        },
        {
          "output_type": "execute_result",
          "data": {
            "text/plain": [
              "True"
            ]
          },
          "metadata": {},
          "execution_count": 17
        }
      ]
    },
    {
      "cell_type": "code",
      "source": [
        "tokenized_words = [\"i\", 'am', 'to', 'go', 'to', 'the', 'store', 'and', 'park']\n",
        "stop_words = stopwords.words('english')\n",
        "\n",
        "#불용어 삭제\n",
        "filtered_words = [word for word in tokenized_words if word not in stop_words]\n",
        "\n",
        "#불용어 확인\n",
        "stop_data = stop_words\n",
        "print(stop_data)\n",
        "print(filtered_words)"
      ],
      "metadata": {
        "colab": {
          "base_uri": "https://localhost:8080/"
        },
        "id": "_ZnONYLhZ-XA",
        "outputId": "1a699a19-6f18-4d7d-ed85-52c429bba020"
      },
      "execution_count": null,
      "outputs": [
        {
          "output_type": "stream",
          "name": "stdout",
          "text": [
            "['i', 'me', 'my', 'myself', 'we', 'our', 'ours', 'ourselves', 'you', \"you're\", \"you've\", \"you'll\", \"you'd\", 'your', 'yours', 'yourself', 'yourselves', 'he', 'him', 'his', 'himself', 'she', \"she's\", 'her', 'hers', 'herself', 'it', \"it's\", 'its', 'itself', 'they', 'them', 'their', 'theirs', 'themselves', 'what', 'which', 'who', 'whom', 'this', 'that', \"that'll\", 'these', 'those', 'am', 'is', 'are', 'was', 'were', 'be', 'been', 'being', 'have', 'has', 'had', 'having', 'do', 'does', 'did', 'doing', 'a', 'an', 'the', 'and', 'but', 'if', 'or', 'because', 'as', 'until', 'while', 'of', 'at', 'by', 'for', 'with', 'about', 'against', 'between', 'into', 'through', 'during', 'before', 'after', 'above', 'below', 'to', 'from', 'up', 'down', 'in', 'out', 'on', 'off', 'over', 'under', 'again', 'further', 'then', 'once', 'here', 'there', 'when', 'where', 'why', 'how', 'all', 'any', 'both', 'each', 'few', 'more', 'most', 'other', 'some', 'such', 'no', 'nor', 'not', 'only', 'own', 'same', 'so', 'than', 'too', 'very', 's', 't', 'can', 'will', 'just', 'don', \"don't\", 'should', \"should've\", 'now', 'd', 'll', 'm', 'o', 're', 've', 'y', 'ain', 'aren', \"aren't\", 'couldn', \"couldn't\", 'didn', \"didn't\", 'doesn', \"doesn't\", 'hadn', \"hadn't\", 'hasn', \"hasn't\", 'haven', \"haven't\", 'isn', \"isn't\", 'ma', 'mightn', \"mightn't\", 'mustn', \"mustn't\", 'needn', \"needn't\", 'shan', \"shan't\", 'shouldn', \"shouldn't\", 'wasn', \"wasn't\", 'weren', \"weren't\", 'won', \"won't\", 'wouldn', \"wouldn't\"]\n",
            "['go', 'store', 'park']\n"
          ]
        }
      ]
    },
    {
      "cell_type": "markdown",
      "source": [
        "## 어간 추출\n",
        "단어의 어간을 구분하여 기본 의미를 유지하며 어미 제거"
      ],
      "metadata": {
        "id": "XvExs_-_brV3"
      }
    },
    {
      "cell_type": "code",
      "source": [
        "from nltk.stem.porter import PorterStemmer\n",
        "\n",
        "# 단어 토큰 생성\n",
        "tokenized_words_temp = [\"i\", 'am', 'going', 'to','go', 'to', 'the', 'store', 'and', 'meeting']\n",
        "\n",
        "# 어간 추출기 생성\n",
        "porter = PorterStemmer()\n",
        "word_list_temp = []\n",
        "for word in tokenized_words_temp :\n",
        "  print(word)\n",
        "  word_list_temp.append(porter.stem(word))\n",
        "\n",
        "print(word_list_temp)"
      ],
      "metadata": {
        "colab": {
          "base_uri": "https://localhost:8080/"
        },
        "id": "4fN91vZsath6",
        "outputId": "5e993e18-a1d6-4f3a-b1b7-1bac6647dea5"
      },
      "execution_count": null,
      "outputs": [
        {
          "output_type": "stream",
          "name": "stdout",
          "text": [
            "i\n",
            "am\n",
            "going\n",
            "to\n",
            "go\n",
            "to\n",
            "the\n",
            "store\n",
            "and\n",
            "meeting\n",
            "['i', 'am', 'go', 'to', 'go', 'to', 'the', 'store', 'and', 'meet']\n"
          ]
        }
      ]
    },
    {
      "cell_type": "markdown",
      "source": [
        "## 품사 태깅"
      ],
      "metadata": {
        "id": "U7E-OPDCc3dm"
      }
    },
    {
      "cell_type": "code",
      "source": [
        "from nltk import pos_tag\n",
        "from nltk import word_tokenize\n",
        "nltk.download(\"averaged_perceptron_tagger\")"
      ],
      "metadata": {
        "colab": {
          "base_uri": "https://localhost:8080/"
        },
        "id": "tHpB7ijDchJ4",
        "outputId": "9c0b0910-9370-4c00-c027-111af265013c"
      },
      "execution_count": null,
      "outputs": [
        {
          "output_type": "stream",
          "name": "stderr",
          "text": [
            "[nltk_data] Downloading package averaged_perceptron_tagger to\n",
            "[nltk_data]     /root/nltk_data...\n",
            "[nltk_data]   Unzipping taggers/averaged_perceptron_tagger.zip.\n"
          ]
        },
        {
          "output_type": "execute_result",
          "data": {
            "text/plain": [
              "True"
            ]
          },
          "metadata": {},
          "execution_count": 24
        }
      ]
    },
    {
      "cell_type": "code",
      "source": [
        "text_data_tag = \"Chris loved outdoor running\"\n",
        "text_tagger = pos_tag(word_tokenize(text_data_tag))\n",
        "print(text_tagger)"
      ],
      "metadata": {
        "colab": {
          "base_uri": "https://localhost:8080/"
        },
        "id": "cFPJbPqMdRh1",
        "outputId": "f3f81f3b-75e1-4808-8437-1681f691be7a"
      },
      "execution_count": null,
      "outputs": [
        {
          "output_type": "stream",
          "name": "stdout",
          "text": [
            "[('Chris', 'NNP'), ('loved', 'VBD'), ('outdoor', 'RP'), ('running', 'VBG')]\n"
          ]
        }
      ]
    },
    {
      "cell_type": "markdown",
      "source": [
        "## 단어 중요도에 가중치 부여하기\n",
        "tf = 해당 문서에 빈도가 높은 단어 (가중치 부여)<br>\n",
        "idf = 다른 문서에서도 빈도가 높은 단어(가중치 하락)"
      ],
      "metadata": {
        "id": "Lm2dRmTQeHAQ"
      }
    },
    {
      "cell_type": "code",
      "source": [
        "from nltk.tbl import feature\n",
        "import numpy as np\n",
        "from sklearn.feature_extraction.text import TfidfVectorizer\n",
        "\n",
        "text_data_01 = np.array(([\n",
        "    'I love Brazil. Brazil !',\n",
        "    \"Swedn is best\",\n",
        "    \"Germany beats both\"\n",
        "]))\n",
        "\n",
        "# tf-idf 특성 행렬\n",
        "tfidf = TfidfVectorizer()\n",
        "feature_matrix = tfidf.fit_transform(text_data_01)\n",
        "print(feature_matrix)\n",
        "\n",
        "# 밀집 배열 확인\n",
        "feature_matrix.toarray()\n",
        "tf = tfidf.vocabulary_\n",
        "print(tf)"
      ],
      "metadata": {
        "colab": {
          "base_uri": "https://localhost:8080/"
        },
        "id": "PmByHC65duRo",
        "outputId": "c97467f6-6125-4a1e-e85b-61dd810f4ddb"
      },
      "execution_count": null,
      "outputs": [
        {
          "output_type": "stream",
          "name": "stdout",
          "text": [
            "  (0, 3)\t0.8944271909999159\n",
            "  (0, 6)\t0.4472135954999579\n",
            "  (1, 1)\t0.5773502691896257\n",
            "  (1, 5)\t0.5773502691896257\n",
            "  (1, 7)\t0.5773502691896257\n",
            "  (2, 2)\t0.5773502691896257\n",
            "  (2, 0)\t0.5773502691896257\n",
            "  (2, 4)\t0.5773502691896257\n",
            "{'love': 6, 'brazil': 3, 'swedn': 7, 'is': 5, 'best': 1, 'germany': 4, 'beats': 0, 'both': 2}\n"
          ]
        }
      ]
    },
    {
      "cell_type": "markdown",
      "source": [
        "## 워드 클라우드"
      ],
      "metadata": {
        "id": "qeYpjWOclNTR"
      }
    },
    {
      "cell_type": "code",
      "source": [
        "!pip install pygame\n",
        "!pip install simplejson\n",
        "!pip install pytagcloud\n",
        "!pip install pycopy-webbrowser\n",
        "import pytagcloud\n",
        "import webbrowser # 코랩에서는 작동 안함"
      ],
      "metadata": {
        "colab": {
          "base_uri": "https://localhost:8080/"
        },
        "id": "mUeUxdEhfYlj",
        "outputId": "f22e537e-32e6-4120-d89b-27145e05dd78"
      },
      "execution_count": null,
      "outputs": [
        {
          "output_type": "stream",
          "name": "stdout",
          "text": [
            "Looking in indexes: https://pypi.org/simple, https://us-python.pkg.dev/colab-wheels/public/simple/\n",
            "Requirement already satisfied: pygame in /usr/local/lib/python3.10/dist-packages (2.3.0)\n",
            "Looking in indexes: https://pypi.org/simple, https://us-python.pkg.dev/colab-wheels/public/simple/\n",
            "Requirement already satisfied: simplejson in /usr/local/lib/python3.10/dist-packages (3.19.1)\n",
            "Looking in indexes: https://pypi.org/simple, https://us-python.pkg.dev/colab-wheels/public/simple/\n",
            "Requirement already satisfied: pytagcloud in /usr/local/lib/python3.10/dist-packages (0.3.5)\n",
            "Looking in indexes: https://pypi.org/simple, https://us-python.pkg.dev/colab-wheels/public/simple/\n",
            "Collecting pycopy-webbrowser\n",
            "  Using cached pycopy-webbrowser-0.0.0.tar.gz (631 bytes)\n",
            "\u001b[31mERROR: pycopy-webbrowser from https://files.pythonhosted.org/packages/40/6f/3534aa5470f69aede4ec969a4f64981892e5bd838ea8e148d8d7ee52f1bc/pycopy-webbrowser-0.0.0.tar.gz does not appear to be a Python project: neither 'setup.py' nor 'pyproject.toml' found.\u001b[0m\u001b[31m\n",
            "\u001b[0m"
          ]
        }
      ]
    },
    {
      "cell_type": "code",
      "source": [
        "tag = (('Hello', 100), (\"World\", 80), (\"Python\", 200))\n",
        "tag_list = pytagcloud.make_tags(tag, maxsize=50)\n",
        "pytagcloud.create_tag_image(tag_list, 'word_cloud.jpg', size=(900,600), rectangular=False)\n",
        "\n",
        "webbrowser.open('word_cloud.jpg')\n",
        "\n",
        "from IPython.display import Image\n",
        "Image('./word_cloud.jpg')"
      ],
      "metadata": {
        "colab": {
          "base_uri": "https://localhost:8080/"
        },
        "id": "wuPanB_HliGe",
        "outputId": "1bb672af-5c64-4864-f55e-759d30981ec6"
      },
      "execution_count": null,
      "outputs": [
        {
          "output_type": "execute_result",
          "data": {
            "text/plain": [
              "False"
            ]
          },
          "metadata": {},
          "execution_count": 37
        }
      ]
    },
    {
      "cell_type": "markdown",
      "source": [
        "## 문자열을 날짜로 변환"
      ],
      "metadata": {
        "id": "_YvAVv_nn7f0"
      }
    },
    {
      "cell_type": "code",
      "source": [
        "import numpy as np\n",
        "import pandas as pd\n",
        "date_string = np.array(['03-04-2023 11:20 PM',\n",
        "                        '05-04-2023 10:20 PM',\n",
        "                        '07-04-2023 03:20 AM',\n",
        "                        '09-04-2023 06:20'\n",
        "                        ])\n",
        "\n",
        "# Time Stamp 객체로 변경, errors를 무시하도록 설정하였음\n",
        "for data in date_string :\n",
        "  temp_value = pd.to_datetime(data,format='%d-%m-%Y %I:%M %p', errors = 'ignore')\n",
        "  print (temp_value)"
      ],
      "metadata": {
        "colab": {
          "base_uri": "https://localhost:8080/"
        },
        "id": "bvNdj_72nruC",
        "outputId": "c8e769c4-258d-4c23-f76d-3b7f952440ad"
      },
      "execution_count": null,
      "outputs": [
        {
          "output_type": "stream",
          "name": "stdout",
          "text": [
            "2023-04-03 23:20:00\n",
            "2023-04-05 22:20:00\n",
            "2023-04-07 03:20:00\n",
            "09-04-2023 06:20\n"
          ]
        }
      ]
    },
    {
      "cell_type": "markdown",
      "source": [
        "## 시간대 데이터 처리 - 01\n",
        "지역별 시간대 추적"
      ],
      "metadata": {
        "id": "pUEv1GDqqJnO"
      }
    },
    {
      "cell_type": "code",
      "source": [
        "pd.Timestamp(\"2023-01-01 06:00:00\", tz='Europe/London')\n",
        "data_temp = pd.Timestamp('2023-04-20 06:00:00')\n",
        "\n",
        "# 시간대 지정\n",
        "date_in_london = data_temp.tz_localize('Europe/London')\n",
        "print(date_in_london)\n",
        "\n",
        "# 시간대를 변환\n",
        "date_in_london.tz_convert('Africa/Abidjan')\n",
        "print(date_in_london.tz_convert('Africa/Abidjan'))\n",
        "# 세개의 날짜 만들기\n",
        "dates_temp = pd.Series(pd.date_range('2/2/2023', periods=3, freq='M'))\n",
        "temp = dates_temp.dt.tz_localize('Africa/Abidjan')\n",
        "print(temp)"
      ],
      "metadata": {
        "colab": {
          "base_uri": "https://localhost:8080/"
        },
        "id": "6u14AYeyn6A1",
        "outputId": "1a1450b8-2ea3-4873-81c0-9039a24616c7"
      },
      "execution_count": null,
      "outputs": [
        {
          "output_type": "stream",
          "name": "stdout",
          "text": [
            "2023-04-20 06:00:00+01:00\n",
            "2023-04-20 05:00:00+00:00\n",
            "0   2023-02-28 00:00:00+00:00\n",
            "1   2023-03-31 00:00:00+00:00\n",
            "2   2023-04-30 00:00:00+00:00\n",
            "dtype: datetime64[ns, Africa/Abidjan]\n"
          ]
        }
      ]
    },
    {
      "cell_type": "markdown",
      "source": [
        "all_timezones[:] = 지역검색"
      ],
      "metadata": {
        "id": "iQbYqMC0sOlg"
      }
    },
    {
      "cell_type": "code",
      "source": [
        "import pytz\n",
        "from pytz import all_timezones\n",
        "all_timezones[150:152]"
      ],
      "metadata": {
        "colab": {
          "base_uri": "https://localhost:8080/"
        },
        "id": "jfbNxNBQrSbh",
        "outputId": "c139491f-9ba0-4226-99da-356d0478fecf"
      },
      "execution_count": null,
      "outputs": [
        {
          "output_type": "execute_result",
          "data": {
            "text/plain": [
              "['America/Maceio', 'America/Managua']"
            ]
          },
          "metadata": {},
          "execution_count": 58
        }
      ]
    },
    {
      "cell_type": "code",
      "source": [
        "dates_temp.dt.tz_localize('dateutil/Asia/Seoul') #periods 의 영향을 받음"
      ],
      "metadata": {
        "colab": {
          "base_uri": "https://localhost:8080/"
        },
        "id": "5jMz-lMJsWkY",
        "outputId": "f2979781-f673-4291-d75b-179fa4a87369"
      },
      "execution_count": null,
      "outputs": [
        {
          "output_type": "execute_result",
          "data": {
            "text/plain": [
              "0   2023-02-28 00:00:00+09:00\n",
              "1   2023-03-31 00:00:00+09:00\n",
              "2   2023-04-30 00:00:00+09:00\n",
              "dtype: datetime64[ns, tzfile('/usr/share/zoneinfo/Asia/Seoul')]"
            ]
          },
          "metadata": {},
          "execution_count": 61
        }
      ]
    },
    {
      "cell_type": "code",
      "source": [
        "tz_temp = pytz.timezone('Asia/Seoul')\n",
        "temp_01 = dates_temp.dt.tz_localize(tz_temp)\n",
        "print(temp_01)"
      ],
      "metadata": {
        "colab": {
          "base_uri": "https://localhost:8080/"
        },
        "id": "BQcSX1BHs27U",
        "outputId": "3e88e014-1e4d-4409-d302-7855e109df0d"
      },
      "execution_count": null,
      "outputs": [
        {
          "output_type": "stream",
          "name": "stdout",
          "text": [
            "0   2023-02-28 00:00:00+09:00\n",
            "1   2023-03-31 00:00:00+09:00\n",
            "2   2023-04-30 00:00:00+09:00\n",
            "dtype: datetime64[ns, Asia/Seoul]\n"
          ]
        }
      ]
    },
    {
      "cell_type": "code",
      "source": [
        "# 날짜와 시간 선택하기\n",
        "\n",
        "dateframe = pd.DataFrame()\n",
        "dateframe['date'] = pd.date_range('1/1/2023', periods=1000, freq='H')\n",
        "\n",
        "\n",
        "# 두 datetime 사이의 샘플을 선택\n",
        "dateframe [(dateframe['date'] > '2021-1-1 01:00:00') &\n",
        "           (dateframe['date'] <= '2023-1-1 04:00:00')]\n",
        "\n",
        "dateframe = dateframe.set_index(dateframe['date'])\n",
        "\n",
        "temp02 = dateframe.loc['2023-1-1 01:00:00' : '2023-1-1 04:00:00']\n",
        "print(temp02)"
      ],
      "metadata": {
        "colab": {
          "base_uri": "https://localhost:8080/"
        },
        "id": "muOT4TmUtEvs",
        "outputId": "d3d989c9-baf4-420f-cb22-3510763c405c"
      },
      "execution_count": null,
      "outputs": [
        {
          "output_type": "stream",
          "name": "stdout",
          "text": [
            "                                   date\n",
            "date                                   \n",
            "2023-01-01 01:00:00 2023-01-01 01:00:00\n",
            "2023-01-01 02:00:00 2023-01-01 02:00:00\n",
            "2023-01-01 03:00:00 2023-01-01 03:00:00\n",
            "2023-01-01 04:00:00 2023-01-01 04:00:00\n"
          ]
        }
      ]
    },
    {
      "cell_type": "markdown",
      "source": [
        "## 날짜 데이터 분할\n",
        "날짜 -> 년 월 일 시 분"
      ],
      "metadata": {
        "id": "DLaRhSKgL6Cg"
      }
    },
    {
      "cell_type": "code",
      "source": [
        "import pandas as pd\n",
        "\n",
        "dateframe = pd.DataFrame()\n",
        "\n",
        "# W = 주 기준(7일) 10개의 날짜\n",
        "dateframe['date'] = pd.date_range('1/1/2023', periods=10, freq='W')\n",
        "\n",
        "\n",
        "dateframe['year'] = dateframe['date'].dt.year\n",
        "dateframe['month'] = dateframe['date'].dt.month\n",
        "dateframe['day'] = dateframe['date'].dt.day\n",
        "dateframe['hour'] = dateframe['date'].dt.hour\n",
        "dateframe['minute'] = dateframe['date'].dt.minute\n",
        "print(dateframe)"
      ],
      "metadata": {
        "id": "0eiinZ6nuORm",
        "colab": {
          "base_uri": "https://localhost:8080/"
        },
        "outputId": "806c1ab4-b38f-4f41-ce9d-3665b70ff8d1"
      },
      "execution_count": 2,
      "outputs": [
        {
          "output_type": "stream",
          "name": "stdout",
          "text": [
            "        date  year  month  day  hour  minute\n",
            "0 2023-01-01  2023      1    1     0       0\n",
            "1 2023-01-08  2023      1    8     0       0\n",
            "2 2023-01-15  2023      1   15     0       0\n",
            "3 2023-01-22  2023      1   22     0       0\n",
            "4 2023-01-29  2023      1   29     0       0\n",
            "5 2023-02-05  2023      2    5     0       0\n",
            "6 2023-02-12  2023      2   12     0       0\n",
            "7 2023-02-19  2023      2   19     0       0\n",
            "8 2023-02-26  2023      2   26     0       0\n",
            "9 2023-03-05  2023      3    5     0       0\n"
          ]
        }
      ]
    },
    {
      "cell_type": "markdown",
      "source": [
        "## 날짜간 차이 계산\n",
        "TimeDelta로 두 지점 사이의 시간 변화 기록 특성 계산"
      ],
      "metadata": {
        "id": "1AV8ImgvORFP"
      }
    },
    {
      "cell_type": "code",
      "source": [
        "date_frame = pd.DataFrame()\n",
        "\n",
        "# Timestamp로 두 날짜 지정\n",
        "date_frame['Arrived'] = [pd.Timestamp('01-01-2023'), pd.Timestamp('01-04-2023')]\n",
        "date_frame['Left'] = [pd.Timestamp('01-01-2023'), pd.Timestamp('01-06-2023')]\n",
        "\n",
        "# 특성 사이의 차를 계산\n",
        "date_frame['Left'] - date_frame['Arrived']\n",
        "pd.Series(delta.days for delta in (date_frame['Left'] - date_frame['Arrived']))"
      ],
      "metadata": {
        "colab": {
          "base_uri": "https://localhost:8080/"
        },
        "id": "05i_ga1gN8wx",
        "outputId": "26cd599b-9765-4f55-d715-0d55a0a017de"
      },
      "execution_count": 4,
      "outputs": [
        {
          "output_type": "execute_result",
          "data": {
            "text/plain": [
              "0    0\n",
              "1    2\n",
              "dtype: int64"
            ]
          },
          "metadata": {},
          "execution_count": 4
        }
      ]
    },
    {
      "cell_type": "markdown",
      "source": [
        "## 시차 특성 (값 밀어내기) (SQL LAG & LEAD)\n",
        "판다스의 shift를 사용하여 n기간 만큼 차이가 나는 시차 특성"
      ],
      "metadata": {
        "id": "Xa3oMMBfPn8m"
      }
    },
    {
      "cell_type": "code",
      "source": [
        "date_frame_temp = pd.DataFrame()\n",
        "\n",
        "date_frame_temp['dates'] = pd.date_range('1/1/2023', periods=5, freq='D')\n",
        "date_frame_temp['stock_price'] = [1.1, 2.2, 3.3, 4.4, 5.5]\n",
        "\n",
        "date_frame_temp['previous_days_stock_price'] = date_frame_temp['stock_price'].shift(2)\n",
        "print(date_frame_temp)"
      ],
      "metadata": {
        "colab": {
          "base_uri": "https://localhost:8080/"
        },
        "id": "sD-t7fNnPCZz",
        "outputId": "c11bae76-d72c-482e-f5cd-f52db418cd6d"
      },
      "execution_count": 5,
      "outputs": [
        {
          "output_type": "stream",
          "name": "stdout",
          "text": [
            "       dates  stock_price  previous_days_stock_price\n",
            "0 2023-01-01          1.1                        NaN\n",
            "1 2023-01-02          2.2                        NaN\n",
            "2 2023-01-03          3.3                        1.1\n",
            "3 2023-01-04          4.4                        2.2\n",
            "4 2023-01-05          5.5                        3.3\n"
          ]
        }
      ]
    },
    {
      "cell_type": "markdown",
      "source": [
        "## 이동 시간 윈도 사용\n",
        "이동 평균 계산"
      ],
      "metadata": {
        "id": "cZr3Fv4gRYlN"
      }
    },
    {
      "cell_type": "code",
      "source": [
        "time_index = pd.date_range('01/01/2023', periods=5, freq='M')\n",
        "date_frame01 = pd.DataFrame(index=time_index)\n",
        "date_frame01['Stock_price'] = [1,2,3,4,5]\n",
        "print(date_frame01)\n",
        "\n",
        "# 이동 평균 계산\n",
        "date_frame01.rolling(window=2).mean()\n",
        "date_frame01.ewm(alpha=0.5).mean()\n"
      ],
      "metadata": {
        "colab": {
          "base_uri": "https://localhost:8080/",
          "height": 317
        },
        "id": "xSieHtc1Qddz",
        "outputId": "9be47162-3908-45b9-c4de-c0b0ae19d9c3"
      },
      "execution_count": 17,
      "outputs": [
        {
          "output_type": "stream",
          "name": "stdout",
          "text": [
            "            Stock_price\n",
            "2023-01-31            1\n",
            "2023-02-28            2\n",
            "2023-03-31            3\n",
            "2023-04-30            4\n",
            "2023-05-31            5\n"
          ]
        },
        {
          "output_type": "execute_result",
          "data": {
            "text/plain": [
              "            Stock_price\n",
              "2023-01-31     1.000000\n",
              "2023-02-28     1.666667\n",
              "2023-03-31     2.428571\n",
              "2023-04-30     3.266667\n",
              "2023-05-31     4.161290"
            ],
            "text/html": [
              "\n",
              "  <div id=\"df-fe649023-4475-4272-869f-2e0ea3a79747\">\n",
              "    <div class=\"colab-df-container\">\n",
              "      <div>\n",
              "<style scoped>\n",
              "    .dataframe tbody tr th:only-of-type {\n",
              "        vertical-align: middle;\n",
              "    }\n",
              "\n",
              "    .dataframe tbody tr th {\n",
              "        vertical-align: top;\n",
              "    }\n",
              "\n",
              "    .dataframe thead th {\n",
              "        text-align: right;\n",
              "    }\n",
              "</style>\n",
              "<table border=\"1\" class=\"dataframe\">\n",
              "  <thead>\n",
              "    <tr style=\"text-align: right;\">\n",
              "      <th></th>\n",
              "      <th>Stock_price</th>\n",
              "    </tr>\n",
              "  </thead>\n",
              "  <tbody>\n",
              "    <tr>\n",
              "      <th>2023-01-31</th>\n",
              "      <td>1.000000</td>\n",
              "    </tr>\n",
              "    <tr>\n",
              "      <th>2023-02-28</th>\n",
              "      <td>1.666667</td>\n",
              "    </tr>\n",
              "    <tr>\n",
              "      <th>2023-03-31</th>\n",
              "      <td>2.428571</td>\n",
              "    </tr>\n",
              "    <tr>\n",
              "      <th>2023-04-30</th>\n",
              "      <td>3.266667</td>\n",
              "    </tr>\n",
              "    <tr>\n",
              "      <th>2023-05-31</th>\n",
              "      <td>4.161290</td>\n",
              "    </tr>\n",
              "  </tbody>\n",
              "</table>\n",
              "</div>\n",
              "      <button class=\"colab-df-convert\" onclick=\"convertToInteractive('df-fe649023-4475-4272-869f-2e0ea3a79747')\"\n",
              "              title=\"Convert this dataframe to an interactive table.\"\n",
              "              style=\"display:none;\">\n",
              "        \n",
              "  <svg xmlns=\"http://www.w3.org/2000/svg\" height=\"24px\"viewBox=\"0 0 24 24\"\n",
              "       width=\"24px\">\n",
              "    <path d=\"M0 0h24v24H0V0z\" fill=\"none\"/>\n",
              "    <path d=\"M18.56 5.44l.94 2.06.94-2.06 2.06-.94-2.06-.94-.94-2.06-.94 2.06-2.06.94zm-11 1L8.5 8.5l.94-2.06 2.06-.94-2.06-.94L8.5 2.5l-.94 2.06-2.06.94zm10 10l.94 2.06.94-2.06 2.06-.94-2.06-.94-.94-2.06-.94 2.06-2.06.94z\"/><path d=\"M17.41 7.96l-1.37-1.37c-.4-.4-.92-.59-1.43-.59-.52 0-1.04.2-1.43.59L10.3 9.45l-7.72 7.72c-.78.78-.78 2.05 0 2.83L4 21.41c.39.39.9.59 1.41.59.51 0 1.02-.2 1.41-.59l7.78-7.78 2.81-2.81c.8-.78.8-2.07 0-2.86zM5.41 20L4 18.59l7.72-7.72 1.47 1.35L5.41 20z\"/>\n",
              "  </svg>\n",
              "      </button>\n",
              "      \n",
              "  <style>\n",
              "    .colab-df-container {\n",
              "      display:flex;\n",
              "      flex-wrap:wrap;\n",
              "      gap: 12px;\n",
              "    }\n",
              "\n",
              "    .colab-df-convert {\n",
              "      background-color: #E8F0FE;\n",
              "      border: none;\n",
              "      border-radius: 50%;\n",
              "      cursor: pointer;\n",
              "      display: none;\n",
              "      fill: #1967D2;\n",
              "      height: 32px;\n",
              "      padding: 0 0 0 0;\n",
              "      width: 32px;\n",
              "    }\n",
              "\n",
              "    .colab-df-convert:hover {\n",
              "      background-color: #E2EBFA;\n",
              "      box-shadow: 0px 1px 2px rgba(60, 64, 67, 0.3), 0px 1px 3px 1px rgba(60, 64, 67, 0.15);\n",
              "      fill: #174EA6;\n",
              "    }\n",
              "\n",
              "    [theme=dark] .colab-df-convert {\n",
              "      background-color: #3B4455;\n",
              "      fill: #D2E3FC;\n",
              "    }\n",
              "\n",
              "    [theme=dark] .colab-df-convert:hover {\n",
              "      background-color: #434B5C;\n",
              "      box-shadow: 0px 1px 3px 1px rgba(0, 0, 0, 0.15);\n",
              "      filter: drop-shadow(0px 1px 2px rgba(0, 0, 0, 0.3));\n",
              "      fill: #FFFFFF;\n",
              "    }\n",
              "  </style>\n",
              "\n",
              "      <script>\n",
              "        const buttonEl =\n",
              "          document.querySelector('#df-fe649023-4475-4272-869f-2e0ea3a79747 button.colab-df-convert');\n",
              "        buttonEl.style.display =\n",
              "          google.colab.kernel.accessAllowed ? 'block' : 'none';\n",
              "\n",
              "        async function convertToInteractive(key) {\n",
              "          const element = document.querySelector('#df-fe649023-4475-4272-869f-2e0ea3a79747');\n",
              "          const dataTable =\n",
              "            await google.colab.kernel.invokeFunction('convertToInteractive',\n",
              "                                                     [key], {});\n",
              "          if (!dataTable) return;\n",
              "\n",
              "          const docLinkHtml = 'Like what you see? Visit the ' +\n",
              "            '<a target=\"_blank\" href=https://colab.research.google.com/notebooks/data_table.ipynb>data table notebook</a>'\n",
              "            + ' to learn more about interactive tables.';\n",
              "          element.innerHTML = '';\n",
              "          dataTable['output_type'] = 'display_data';\n",
              "          await google.colab.output.renderOutput(dataTable, element);\n",
              "          const docLink = document.createElement('div');\n",
              "          docLink.innerHTML = docLinkHtml;\n",
              "          element.appendChild(docLink);\n",
              "        }\n",
              "      </script>\n",
              "    </div>\n",
              "  </div>\n",
              "  "
            ]
          },
          "metadata": {},
          "execution_count": 17
        }
      ]
    },
    {
      "cell_type": "markdown",
      "source": [
        "## 시계열 데이터 누락값 처리"
      ],
      "metadata": {
        "id": "kroao7sUS-BC"
      }
    },
    {
      "cell_type": "code",
      "source": [
        "import numpy as np\n",
        "\n",
        "time_index = pd.date_range('01/01/2023', periods=5, freq='M')\n",
        "date_frame02 = pd.DataFrame(index=time_index)\n",
        "\n",
        "\n",
        "print(date_frame02)\n",
        "\n",
        "# 누락 값 있는 특성 생성\n",
        "date_frame02['Sales'] = [1.0, 2.0, np.nan, np.nan, 8.0] \n",
        "\n",
        "date_frame02.interpolate() # 누락 값 보간\n",
        "date_frame02.ffill() # 앞채우기\n",
        "date_frame02.bfill() # 뒤채우기\n",
        "date_frame02.interpolate(method='quadratic') # 비선형 보간법\n",
        "print(date_frame02.interpolate(limit=2, limit_direction='backward'))"
      ],
      "metadata": {
        "colab": {
          "base_uri": "https://localhost:8080/"
        },
        "id": "Y-4Ke8cIRtQY",
        "outputId": "ad7a9193-db96-45e4-e08c-5cf41ef774eb"
      },
      "execution_count": 24,
      "outputs": [
        {
          "output_type": "stream",
          "name": "stdout",
          "text": [
            "Empty DataFrame\n",
            "Columns: []\n",
            "Index: [2023-01-31 00:00:00, 2023-02-28 00:00:00, 2023-03-31 00:00:00, 2023-04-30 00:00:00, 2023-05-31 00:00:00]\n",
            "            Sales\n",
            "2023-01-31    1.0\n",
            "2023-02-28    2.0\n",
            "2023-03-31    4.0\n",
            "2023-04-30    6.0\n",
            "2023-05-31    8.0\n"
          ]
        }
      ]
    },
    {
      "cell_type": "code",
      "source": [],
      "metadata": {
        "id": "dAxeM2x-T412"
      },
      "execution_count": null,
      "outputs": []
    }
  ]
}